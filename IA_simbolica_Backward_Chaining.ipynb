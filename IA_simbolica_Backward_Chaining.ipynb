{
  "nbformat": 4,
  "nbformat_minor": 0,
  "metadata": {
    "colab": {
      "provenance": [],
      "authorship_tag": "ABX9TyMv6749EYEtiDBvfYI/uE59",
      "include_colab_link": true
    },
    "kernelspec": {
      "name": "python3",
      "display_name": "Python 3"
    },
    "language_info": {
      "name": "python"
    }
  },
  "cells": [
    {
      "cell_type": "markdown",
      "metadata": {
        "id": "view-in-github",
        "colab_type": "text"
      },
      "source": [
        "<a href=\"https://colab.research.google.com/github/EvelyParanhos/estudo-IA-simbolica/blob/master/IA_simbolica_Backward_Chaining.ipynb\" target=\"_parent\"><img src=\"https://colab.research.google.com/assets/colab-badge.svg\" alt=\"Open In Colab\"/></a>"
      ]
    },
    {
      "cell_type": "markdown",
      "source": [
        "#Estrutura IA Simbólica\n",
        "*   **Fatos:** O conhecimento inicial.\n",
        "*   **Regras:** O conhecimento (a lógica).\n",
        "*   **Motor de Inferência:** O algoritmo que aplica as regras (o core da IA).\tUma função ou classe principal."
      ],
      "metadata": {
        "id": "7eDidmsCxN47"
      }
    },
    {
      "cell_type": "code",
      "source": [
        "class Regra:\n",
        "  def __init__(self, nome, condicoes_and=None, condicoes_or=None, conclusao=None):\n",
        "    self.nome = nome\n",
        "    self.condicoes_and = condicoes_and\n",
        "    self.condicoes_or = condicoes_or\n",
        "    self.conclusao = conclusao\n",
        "\n",
        "  def __str__(self):\n",
        "    return f\"Rega {self.nome}: -> Conclusão: {self.conclusao}\""
      ],
      "metadata": {
        "id": "QtxCB0_TXpwe"
      },
      "execution_count": 6,
      "outputs": []
    },
    {
      "cell_type": "code",
      "source": [
        "regras_do_sistema = [\n",
        "    Regra(\n",
        "        nome=\"Regra_Gripe\",\n",
        "        condicoes_and=[\"tem_febre\", \"está_apático\"],\n",
        "        condicoes_or=[\"tem_tosse\", \"tem_espirro\"],\n",
        "        conclusao=\"Diagnóstico: Resfriado/Gripe\"\n",
        "    ),\n",
        "    Regra(\n",
        "        nome=\"Regra_Pulga\",\n",
        "        condicoes_and=[\"tem_coceira\"],\n",
        "        condicoes_or=[\"tem_manchas_vermelhas\", \"perdeu_pelo_localizado\"],\n",
        "        conclusao=\"Diagnóstico: Pulgas/Alergia\"\n",
        "    ),\n",
        "    Regra(\n",
        "        nome=\"Regra_Fome_Ou_Tédio\",\n",
        "        condicoes_and=[\"está_latindo_muito\"],\n",
        "        condicoes_or=[\"não_comeu_recentemente\", \"ficou_sozinho_hoje\"],\n",
        "        conclusao=\"Diagnóstico: Fome ou Tédio\"\n",
        "    )\n",
        "]"
      ],
      "metadata": {
        "id": "NPy58nb8we53"
      },
      "execution_count": 7,
      "outputs": []
    },
    {
      "cell_type": "code",
      "source": [
        "class BaseDeFatos:\n",
        "  def __init__(self, fatos_iniciais=None):\n",
        "    self.fatos = fatos_iniciais if fatos_iniciais is not None else {}\n",
        "\n",
        "  def adicionar_fato(self, condicao, valor):\n",
        "    self.fatos[condicao] = valor\n",
        "\n",
        "  def checar_fato(self, condicao):\n",
        "    return self.fatos.get(condicao, False)"
      ],
      "metadata": {
        "id": "C_VUE7N_apOf"
      },
      "execution_count": 8,
      "outputs": []
    },
    {
      "cell_type": "code",
      "source": [
        "class MotorDeInferencia:\n",
        "  def __init__(self, regras, base_de_fatos):\n",
        "    self.regras = regras\n",
        "    self.base_de_fatos = base_de_fatos\n",
        "\n",
        "  def adquirir_fato(self, condicao):\n",
        "    if condicao in self.base_de_fatos.fatos:\n",
        "      print(f\"O fato '{condicao}' já está na base de fatos.\")\n",
        "      return self.base_de_fatos.checar_fato(condicao)\n",
        "\n",
        "    print(f\"Precisamos provar a condição: '{condicao}'\")\n",
        "    pergunta = f\"O pet {condicao.replace('_', ' ')}? (s/n): \"\n",
        "    resposta = input(pergunta).lower() == 's'\n",
        "    self.base_de_fatos.adicionar_fato(condicao, resposta)\n",
        "\n",
        "    if resposta:\n",
        "      print(f\"O fato '{condicao}' foi confirmado.\")\n",
        "    else:\n",
        "      print(f\"O fato '{condicao}' não foi confirmado.\")\n",
        "\n",
        "    return resposta\n",
        "\n",
        "  def provar_objetivo(self, objetivo):\n",
        "    regra_alvo = next((r for r in self.regras if r.conclusao == objetivo), None)\n",
        "    if not regra_alvo:\n",
        "      print(f\"Objetivo não encontrado: {objetivo}\")\n",
        "      return None\n",
        "\n",
        "    print(f\"\\n--- TENTATIVA DE PROVA: {objetivo} (Regra: {regra_alvo.nome}) ---\")\n",
        "\n",
        "    for condicao_and in regra_alvo.condicoes_and:\n",
        "      if self.base_de_fatos.checar_fato(condicao_and):\n",
        "        print(f\"Fato conhecido: {condicao_and}\")\n",
        "        continue\n",
        "\n",
        "      if not self.adquirir_fato(condicao_and):\n",
        "        print(f\"Condição AND'{condicao_and}' não confirmada. Não é possível provar.\")\n",
        "        return None\n",
        "\n",
        "    condicoes_or_provadas = False\n",
        "    print(f\"Condições AND provadas. Verificando condições OR...\")\n",
        "\n",
        "    if regra_alvo.condicoes_or:\n",
        "      for condicao_or in regra_alvo.condicoes_or:\n",
        "        if self.base_de_fatos.checar_fato(condicao_or):\n",
        "          condicoes_or_provadas = True\n",
        "          print(f\"Fato conhecido: {condicao_or}\")\n",
        "          break\n",
        "\n",
        "        if self.adquirir_fato(condicao_or):\n",
        "          condicoes_or_provadas = True\n",
        "          print(f\"Condição OR '{condicao_or}' confirmada.\")\n",
        "          break\n",
        "\n",
        "      if not condicoes_or_provadas:\n",
        "        print(f\"--- FALHA na Regra {regra_alvo.nome}: TODAS as condições OR falharam. ---\")\n",
        "        return None\n",
        "\n",
        "    print(f\"\\n**SUCESSO**: Todas as condições (AND e OR) provadas. {objetivo}\")\n",
        "    return objetivo"
      ],
      "metadata": {
        "id": "hdLH6Z6ZbOyR"
      },
      "execution_count": 19,
      "outputs": []
    },
    {
      "cell_type": "code",
      "source": [
        "fatos_iniciais = {\n",
        "    \"tem_febre\": True,\n",
        "    \"está_latindo_muito\": True\n",
        "}\n",
        "base_fatos = BaseDeFatos(fatos_iniciais)\n",
        "\n",
        "motor = MotorDeInferencia(regras_do_sistema, base_fatos)\n",
        "\n",
        "objetivo_principal = \"Diagnóstico: Resfriado/Gripe\"\n",
        "resultado = motor.provar_objetivo(objetivo_principal)\n",
        "\n",
        "print(\"\\n-------------------------------------\")\n",
        "if resultado:\n",
        "    print(f\"Resultado final do diagnóstico: {resultado}\")\n",
        "else:\n",
        "    print(f\"Resultado final do diagnóstico: Não foi possível provar o objetivo: {objetivo_principal}\")\n",
        "print(\"-------------------------------------\")"
      ],
      "metadata": {
        "id": "v90YF7C7xNfA"
      },
      "execution_count": null,
      "outputs": []
    },
    {
      "cell_type": "code",
      "source": [],
      "metadata": {
        "id": "dLs--8IhoiUG"
      },
      "execution_count": 3,
      "outputs": []
    }
  ]
}