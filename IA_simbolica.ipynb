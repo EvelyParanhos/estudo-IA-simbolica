{
  "nbformat": 4,
  "nbformat_minor": 0,
  "metadata": {
    "colab": {
      "provenance": [],
      "authorship_tag": "ABX9TyNmViNaH9J2ltc0SEdVVFTO",
      "include_colab_link": true
    },
    "kernelspec": {
      "name": "python3",
      "display_name": "Python 3"
    },
    "language_info": {
      "name": "python"
    }
  },
  "cells": [
    {
      "cell_type": "markdown",
      "metadata": {
        "id": "view-in-github",
        "colab_type": "text"
      },
      "source": [
        "<a href=\"https://colab.research.google.com/github/EvelyParanhos/estudo-IA-simbolica/blob/master/IA_simbolica.ipynb\" target=\"_parent\"><img src=\"https://colab.research.google.com/assets/colab-badge.svg\" alt=\"Open In Colab\"/></a>"
      ]
    },
    {
      "cell_type": "code",
      "execution_count": 1,
      "metadata": {
        "colab": {
          "base_uri": "https://localhost:8080/"
        },
        "id": "56BOvmzRwYOv",
        "outputId": "32b703f6-bcda-440f-b0b6-3e31aa0a776d"
      },
      "outputs": [
        {
          "output_type": "stream",
          "name": "stdout",
          "text": [
            "Cloning into 'estudo-IA-simbolica'...\n",
            "remote: Enumerating objects: 3, done.\u001b[K\n",
            "remote: Counting objects: 100% (3/3), done.\u001b[K\n",
            "remote: Total 3 (delta 0), reused 0 (delta 0), pack-reused 0 (from 0)\u001b[K\n",
            "Receiving objects: 100% (3/3), done.\n"
          ]
        }
      ],
      "source": [
        "!git clone \"https://github.com/EvelyParanhos/estudo-IA-simbolica.git\""
      ]
    },
    {
      "cell_type": "markdown",
      "source": [
        "#Estrutura IA Simbólica\n",
        "*   **Fatos:** O conhecimento inicial.\n",
        "*   **Regras:** O conhecimento (a lógica).\n",
        "*   **Motor de Inferência:** O algoritmo que aplica as regras (o core da IA).\tUma função ou classe principal."
      ],
      "metadata": {
        "id": "7eDidmsCxN47"
      }
    },
    {
      "cell_type": "code",
      "source": [
        "REGRAS = [\n",
        "    {\n",
        "        \"nome\": \"Regra_Gripe\",\n",
        "        \"antecedentes\": [\"Tem_Febre\", \"Tem_Tosse\", \"Esta_Apatico\"],\n",
        "        \"consequencia\": \"Gripe\"\n",
        "    },\n",
        "        {\n",
        "        \"nome\": \"Regra_Pulga\",\n",
        "        \"antecedentes\": [\"Tem_Coceira\", \"Tem_Manchas_Vermelhas\"],\n",
        "        \"consequencia\": \"Pulgas\"\n",
        "    },\n",
        "    {\n",
        "        \"nome\": \"Regra_Fome\",\n",
        "        \"antecedentes\": [\"Esta_Latindo\", \"Nao_Comeu_Recentemente\"],\n",
        "        \"consequencia\": \"Fome\"\n",
        "    }\n",
        "]"
      ],
      "metadata": {
        "id": "NPy58nb8we53"
      },
      "execution_count": 5,
      "outputs": []
    },
    {
      "cell_type": "code",
      "source": [
        "!git commit -m \"Adicionando as regras\""
      ],
      "metadata": {
        "colab": {
          "base_uri": "https://localhost:8080/"
        },
        "id": "F1XthI1Gwjbn",
        "outputId": "94084216-1ac7-4871-9012-fe479dc3ba37"
      },
      "execution_count": 6,
      "outputs": [
        {
          "output_type": "stream",
          "name": "stdout",
          "text": [
            "fatal: not a git repository (or any of the parent directories): .git\n"
          ]
        }
      ]
    },
    {
      "cell_type": "code",
      "source": [],
      "metadata": {
        "id": "v90YF7C7xNfA"
      },
      "execution_count": null,
      "outputs": []
    }
  ]
}