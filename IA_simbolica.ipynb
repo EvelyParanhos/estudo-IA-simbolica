{
  "nbformat": 4,
  "nbformat_minor": 0,
  "metadata": {
    "colab": {
      "provenance": [],
      "authorship_tag": "ABX9TyM7plALBa5IPqug4Ln6Hn2C",
      "include_colab_link": true
    },
    "kernelspec": {
      "name": "python3",
      "display_name": "Python 3"
    },
    "language_info": {
      "name": "python"
    }
  },
  "cells": [
    {
      "cell_type": "markdown",
      "metadata": {
        "id": "view-in-github",
        "colab_type": "text"
      },
      "source": [
        "<a href=\"https://colab.research.google.com/github/EvelyParanhos/estudo-IA-simbolica/blob/master/IA_simbolica.ipynb\" target=\"_parent\"><img src=\"https://colab.research.google.com/assets/colab-badge.svg\" alt=\"Open In Colab\"/></a>"
      ]
    },
    {
      "cell_type": "code",
      "metadata": {
        "colab": {
          "base_uri": "https://localhost:8080/"
        },
        "outputId": "281ba393-f764-45f6-aaaa-33031511c0da",
        "id": "4A3h8LKfwvKS"
      },
      "source": [
        "!git push -u origin master"
      ],
      "execution_count": null,
      "outputs": [
        {
          "output_type": "stream",
          "name": "stdout",
          "text": [
            "fatal: could not read Username for 'https://github.com': No such device or address\n"
          ]
        }
      ]
    },
    {
      "cell_type": "code",
      "source": [
        "!git init"
      ],
      "metadata": {
        "colab": {
          "base_uri": "https://localhost:8080/"
        },
        "id": "n0swPFZdpmz6",
        "outputId": "bb416053-1e84-4f23-9958-045e6da3c5eb"
      },
      "execution_count": 1,
      "outputs": [
        {
          "output_type": "stream",
          "name": "stdout",
          "text": [
            "Reinitialized existing Git repository in /content/.git/\n"
          ]
        }
      ]
    },
    {
      "cell_type": "code",
      "source": [
        "!git config --global user.email \"evelyparanhos05@gmail.com\"\n",
        "!git config --global user.name \"EvelyParanhos\""
      ],
      "metadata": {
        "id": "ostPyGZeqZOC"
      },
      "execution_count": 13,
      "outputs": []
    },
    {
      "cell_type": "code",
      "execution_count": 3,
      "metadata": {
        "colab": {
          "base_uri": "https://localhost:8080/"
        },
        "id": "56BOvmzRwYOv",
        "outputId": "52336de3-84a1-45f6-9b9d-700824378752"
      },
      "outputs": [
        {
          "output_type": "stream",
          "name": "stdout",
          "text": [
            "fatal: destination path 'estudo-IA-simbolica' already exists and is not an empty directory.\n"
          ]
        }
      ],
      "source": [
        "!git clone \"https://github.com/EvelyParanhos/estudo-IA-simbolica.git\""
      ]
    },
    {
      "cell_type": "code",
      "metadata": {
        "colab": {
          "base_uri": "https://localhost:8080/"
        },
        "id": "010d533a",
        "outputId": "f67603f9-53d1-4db2-c51f-1cad47d40880"
      },
      "source": [
        "!git remote add origin https://github.com/EvelyParanhos/estudo-IA-simbolica.git"
      ],
      "execution_count": 14,
      "outputs": [
        {
          "output_type": "stream",
          "name": "stdout",
          "text": [
            "error: remote origin already exists.\n"
          ]
        }
      ]
    },
    {
      "cell_type": "code",
      "metadata": {
        "colab": {
          "base_uri": "https://localhost:8080/"
        },
        "id": "f934559f",
        "outputId": "281ba393-f764-45f6-aaaa-33031511c0da"
      },
      "source": [
        "!git push -u origin master"
      ],
      "execution_count": 17,
      "outputs": [
        {
          "output_type": "stream",
          "name": "stdout",
          "text": [
            "fatal: could not read Username for 'https://github.com': No such device or address\n"
          ]
        }
      ]
    },
    {
      "cell_type": "code",
      "source": [
        "!git add ."
      ],
      "metadata": {
        "id": "Z9W3tzNMqPQu"
      },
      "execution_count": 4,
      "outputs": []
    },
    {
      "cell_type": "code",
      "source": [
        "!git commit -m \"Adicionando motor de inferência\""
      ],
      "metadata": {
        "colab": {
          "base_uri": "https://localhost:8080/"
        },
        "id": "VBp3YpZCqS5x",
        "outputId": "7510782f-edfa-438a-a96d-7d30bde8ca61"
      },
      "execution_count": 5,
      "outputs": [
        {
          "output_type": "stream",
          "name": "stdout",
          "text": [
            "On branch master\n",
            "nothing to commit, working tree clean\n"
          ]
        }
      ]
    },
    {
      "cell_type": "code",
      "source": [
        "!git checkout master"
      ],
      "metadata": {
        "colab": {
          "base_uri": "https://localhost:8080/"
        },
        "id": "WdeDXnouqvRn",
        "outputId": "43189020-1538-47d7-fe1e-be3b19de37a6"
      },
      "execution_count": 7,
      "outputs": [
        {
          "output_type": "stream",
          "name": "stdout",
          "text": [
            "Already on 'master'\n"
          ]
        }
      ]
    },
    {
      "cell_type": "code",
      "source": [
        "!git push -u origin master"
      ],
      "metadata": {
        "colab": {
          "base_uri": "https://localhost:8080/"
        },
        "id": "oGqM-fdnqjvm",
        "outputId": "19e35bc0-b1b5-4811-9123-476b83db9849"
      },
      "execution_count": 8,
      "outputs": [
        {
          "output_type": "stream",
          "name": "stdout",
          "text": [
            "fatal: could not read Username for 'https://github.com': No such device or address\n"
          ]
        }
      ]
    },
    {
      "cell_type": "markdown",
      "source": [
        "#Estrutura IA Simbólica\n",
        "*   **Fatos:** O conhecimento inicial.\n",
        "*   **Regras:** O conhecimento (a lógica).\n",
        "*   **Motor de Inferência:** O algoritmo que aplica as regras (o core da IA).\tUma função ou classe principal."
      ],
      "metadata": {
        "id": "7eDidmsCxN47"
      }
    },
    {
      "cell_type": "code",
      "source": [
        "REGRAS = [\n",
        "    {\n",
        "        \"nome\": \"Regra_Gripe\",\n",
        "        \"condicoes\": [\"Tem_Febre\", \"Tem_Tosse\", \"Esta_Apatico\"],\n",
        "        \"conclusao\": \"Gripe\"\n",
        "    },\n",
        "        {\n",
        "        \"nome\": \"Regra_Pulga\",\n",
        "        \"condicoes\": [\"Tem_Coceira\", \"Tem_Manchas_Vermelhas\"],\n",
        "        \"conclusao\": \"Pulgas\"\n",
        "    },\n",
        "    {\n",
        "        \"nome\": \"Regra_Fome\",\n",
        "        \"condicoes\": [\"Esta_Latindo\", \"Nao_Comeu_Recentemente\"],\n",
        "        \"conclusao\": \"Fome\"\n",
        "    }\n",
        "]"
      ],
      "metadata": {
        "id": "NPy58nb8we53"
      },
      "execution_count": 10,
      "outputs": []
    },
    {
      "cell_type": "code",
      "source": [
        "def motor_de_inferencia (objetivo, fatos_conhecidos):\n",
        "  regra_alvo = None\n",
        "  for regra in REGRAS:\n",
        "    if regra[\"conclusao\"] == objetivo:\n",
        "      regra_alvo = regra\n",
        "      break\n",
        "\n",
        "  if regra_alvo is None:\n",
        "    print(f\"-> Objetivo não encontrado: {objetivo}\")\n",
        "    return None\n",
        "\n",
        "  print(f\"-> Tentando provar: {objetivo} (usando a {regra_alvo['nome']})\")\n",
        "\n",
        "  condicoes_provadas = True\n",
        "  for condicao in regra_alvo[\"condicoes\"]:\n",
        "    if fatos_conhecidos.get(condicao) == True:\n",
        "      print(f\"Fato conhecido: {condicao}\")\n",
        "      continue\n",
        "    print(f\"Sub-objetivo: Precisamos confirmar a condição: {condicao}\")\n",
        "    pergunta = f\"O pet {condicao.replace('_', ' ')}? (s/n): \"\n",
        "    fatos_conhecidos[condicao] = input(pergunta).lower() == \"s\"\n",
        "\n",
        "    if fatos_conhecidos[condicao] == False:\n",
        "      print(f\"Condição '{condicao}' não confirmada. Não é possível provar.\")\n",
        "      condicoes_provadas = False\n",
        "      break\n",
        "\n",
        "  if condicoes_provadas:\n",
        "    print(f\"-> Objetivo confirmado: {objetivo}\")\n",
        "    return objetivo\n",
        "  else:\n",
        "      return None"
      ],
      "metadata": {
        "id": "F1XthI1Gwjbn"
      },
      "execution_count": 11,
      "outputs": []
    },
    {
      "cell_type": "code",
      "source": [
        "# Fatos Iniciais (o que sabemos agora)\n",
        "fatos_iniciais = {\n",
        "    \"Tem_Febre\": True,\n",
        "    \"Tem_Coceira\": True,\n",
        "    \"Esta_Latindo\": True,\n",
        "    \"Tem_Manchas_Vermelhas\": True,\n",
        "}\n",
        "\n",
        "# 1. Escolha o objetivo que quer provar (o diagnóstico que você suspeita)\n",
        "objetivo_principal = \"Fome\"\n",
        "\n",
        "# 2. Rodar o motor\n",
        "print(\"--- INÍCIO DO DIAGNÓSTICO ---\")\n",
        "resultado = motor_de_inferencia(objetivo_principal, fatos_iniciais)\n",
        "print(\"--- FIM DO DIAGNÓSTICO ---\")\n",
        "\n",
        "if resultado:\n",
        "    print(f\"\\nResultado final: {resultado}\")\n",
        "else:\n",
        "    print(f\"\\nResultado final: Não foi possível provar o objetivo: {objetivo_principal}\")"
      ],
      "metadata": {
        "colab": {
          "base_uri": "https://localhost:8080/"
        },
        "id": "v90YF7C7xNfA",
        "outputId": "1c58a101-be78-497d-cd0c-425ec632a787"
      },
      "execution_count": 12,
      "outputs": [
        {
          "output_type": "stream",
          "name": "stdout",
          "text": [
            "--- INÍCIO DO DIAGNÓSTICO ---\n",
            "-> Tentando provar: Fome (usando a Regra_Fome)\n",
            "Fato conhecido: Esta_Latindo\n",
            "Sub-objetivo: Precisamos confirmar a condição: Nao_Comeu_Recentemente\n",
            "O pet Nao Comeu Recentemente? (s/n): n\n",
            "Condição 'Nao_Comeu_Recentemente' não confirmada. Não é possível provar.\n",
            "--- FIM DO DIAGNÓSTICO ---\n",
            "\n",
            "Resultado final: Não foi possível provar o objetivo: Fome\n"
          ]
        }
      ]
    },
    {
      "cell_type": "code",
      "source": [],
      "metadata": {
        "id": "dLs--8IhoiUG"
      },
      "execution_count": 12,
      "outputs": []
    }
  ]
}